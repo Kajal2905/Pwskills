{
 "cells": [
  {
   "cell_type": "markdown",
   "id": "d49b4915-7046-453b-9694-62fe812ddefc",
   "metadata": {},
   "source": [
    "TOPIC: Python Basics Variable"
   ]
  },
  {
   "cell_type": "markdown",
   "id": "8e2e2e7b-e00b-436c-91cc-d0bb80683bb6",
   "metadata": {},
   "source": [
    "1. Declare two variables, `x` and `y`, and assign them integer values. Swap the\n",
    "values of these variables without using any temporary variable."
   ]
  },
  {
   "cell_type": "code",
   "execution_count": 15,
   "id": "00d5ced1-ae89-4fb5-8943-ab56fecbf984",
   "metadata": {},
   "outputs": [
    {
     "name": "stdout",
     "output_type": "stream",
     "text": [
      "Inittial Value of x: 1 and y: 2\n",
      "Swapped Value of x: 2 and y: 1\n"
     ]
    }
   ],
   "source": [
    "x=1\n",
    "y=2\n",
    "print('Inittial Value of x:',x,'and y:',y)\n",
    "x=x+y\n",
    "y=x-y\n",
    "x=x-y\n",
    "print('Swapped Value of x:',x,'and y:',y)"
   ]
  },
  {
   "cell_type": "markdown",
   "id": "ed32a01f-8af5-409b-81b6-bbc156ab7bd1",
   "metadata": {},
   "source": [
    "2. Create a program that calculates the area of a rectangle. Take the length and\n",
    "width as inputs from the user and store them in variables. Calculate and\n",
    "display the area."
   ]
  },
  {
   "cell_type": "code",
   "execution_count": 23,
   "id": "2ed59668-7dba-40ba-9b69-277bd10d4497",
   "metadata": {},
   "outputs": [
    {
     "name": "stdout",
     "output_type": "stream",
     "text": [
      "Please enter length of the rectangle\n"
     ]
    },
    {
     "name": "stdin",
     "output_type": "stream",
     "text": [
      " 56\n"
     ]
    },
    {
     "name": "stdout",
     "output_type": "stream",
     "text": [
      "Please enter width of the rectangle\n"
     ]
    },
    {
     "name": "stdin",
     "output_type": "stream",
     "text": [
      " 2\n"
     ]
    },
    {
     "name": "stdout",
     "output_type": "stream",
     "text": [
      "Area of rectangle is:  112\n"
     ]
    }
   ],
   "source": [
    "print('Please enter length of the rectangle')\n",
    "length = int(input())\n",
    "print('Please enter width of the rectangle')\n",
    "width = int(input())\n",
    "Area = length*width\n",
    "print('Area of rectangle is: ',Area)"
   ]
  },
  {
   "cell_type": "markdown",
   "id": "9268ea96-4291-477b-9324-dd1301118b26",
   "metadata": {},
   "source": [
    "3. Write a Python program that converts temperatures from Celsius to\n",
    "Fahrenheit. Take the temperature in Celsius as input, store it in a variable,\n",
    "convert it to Fahrenheit, and display the result."
   ]
  },
  {
   "cell_type": "code",
   "execution_count": null,
   "id": "27176ced-29d4-450f-a7bb-94bba46b8775",
   "metadata": {},
   "outputs": [
    {
     "name": "stdout",
     "output_type": "stream",
     "text": [
      "Please enter the temperature in Cesius\n"
     ]
    },
    {
     "name": "stdin",
     "output_type": "stream",
     "text": [
      " 26\n"
     ]
    },
    {
     "name": "stdout",
     "output_type": "stream",
     "text": [
      "Temperature in Fahrenheit is:  78.80000000000001\n"
     ]
    }
   ],
   "source": [
    "print('Please enter the temperature in Cesius')\n",
    "Temp_Celsius = int(input())\n",
    "Temp_Fahrenheit = (Temp_Celsius * 1.8) + 32\n",
    "print('Temperature in Fahrenheit is: ', Temp_Fahrenheit)"
   ]
  },
  {
   "cell_type": "markdown",
   "id": "fcb519c2-c4e3-442b-b083-431964e473f5",
   "metadata": {},
   "source": [
    "\n",
    "TOPIC: String Based Questions\n"
   ]
  },
  {
   "cell_type": "markdown",
   "id": "5682b48c-c3c2-43a7-ac70-83d2b5c24b60",
   "metadata": {},
   "source": [
    "1. Write a Python program that takes a string as input and prints the length of\n",
    "the string."
   ]
  },
  {
   "cell_type": "code",
   "execution_count": 31,
   "id": "fcffa54c-e922-4008-aa81-411c96a0eb0a",
   "metadata": {},
   "outputs": [
    {
     "name": "stdout",
     "output_type": "stream",
     "text": [
      "Please enter a string\n"
     ]
    },
    {
     "name": "stdin",
     "output_type": "stream",
     "text": [
      " Kajal Singh\n"
     ]
    },
    {
     "name": "stdout",
     "output_type": "stream",
     "text": [
      "Length of the string is: 11\n"
     ]
    }
   ],
   "source": [
    "print('Please enter a string')\n",
    "string = input()\n",
    "print('Length of the string is:',len(string))"
   ]
  },
  {
   "cell_type": "markdown",
   "id": "fc66c607-89fb-4558-adcd-324b22a7bcfb",
   "metadata": {},
   "source": [
    "2. Create a program that takes a sentence from the user and counts the number\n",
    "of vowels (a, e, i, o, u) in the string."
   ]
  },
  {
   "cell_type": "code",
   "execution_count": 42,
   "id": "410867fd-365e-44dc-8149-d308945fa3c7",
   "metadata": {},
   "outputs": [
    {
     "name": "stdin",
     "output_type": "stream",
     "text": [
      "Please enter a sentence:  Kajal Singh\n"
     ]
    },
    {
     "name": "stdout",
     "output_type": "stream",
     "text": [
      "Number of Vowels in the sentence:  3\n"
     ]
    }
   ],
   "source": [
    "sentence = input('Please enter a sentence: ').upper()\n",
    "print('Number of Vowels in the sentence: ',sentence.count('A')+sentence.count('E')+sentence.count('I')+sentence.count('O')+sentence.count('U'))"
   ]
  },
  {
   "cell_type": "markdown",
   "id": "d5c20cd9-519a-4969-8ba2-208812c49c0f",
   "metadata": {},
   "source": [
    "3. Given a string, reverse the order of characters using string slicing and print\n",
    "the reversed string."
   ]
  },
  {
   "cell_type": "code",
   "execution_count": 43,
   "id": "65cf936d-e46f-4eda-b9c0-3ab4f79ef39d",
   "metadata": {},
   "outputs": [
    {
     "name": "stdin",
     "output_type": "stream",
     "text": [
      "Please enter a sentence to reverse:  kajal\n"
     ]
    },
    {
     "data": {
      "text/plain": [
       "'lajak'"
      ]
     },
     "execution_count": 43,
     "metadata": {},
     "output_type": "execute_result"
    }
   ],
   "source": [
    "rev_str = input('Please enter a sentence to reverse: ')\n",
    "rev_str[::-1]"
   ]
  },
  {
   "cell_type": "markdown",
   "id": "af53c1be-9e9e-46eb-be99-da04d659f8e6",
   "metadata": {},
   "source": [
    "4. Write a program that takes a string as input and checks if it is a palindrome\n",
    "(reads the same forwards and backwards)."
   ]
  },
  {
   "cell_type": "code",
   "execution_count": 46,
   "id": "88fcc171-c954-4500-9fb3-8d8c4e219a2b",
   "metadata": {},
   "outputs": [
    {
     "name": "stdin",
     "output_type": "stream",
     "text": [
      "Please enter a sentence to check if it is a palindrome:  fhkakd\n"
     ]
    },
    {
     "name": "stdout",
     "output_type": "stream",
     "text": [
      "No, Entered string is not palindrome\n"
     ]
    }
   ],
   "source": [
    "chk_palndrm = input('Please enter a sentence to check if it is a palindrome: ')\n",
    "rvrs = chk_palndrm[::-1]\n",
    "if chk_palndrm == rvrs:\n",
    "    print('Yes, Entered string is palindrome')\n",
    "else:\n",
    "    print('No, Entered string is not palindrome')"
   ]
  },
  {
   "cell_type": "markdown",
   "id": "9e2c64d8-3082-4515-8f07-476d5e9eafc3",
   "metadata": {},
   "source": [
    "5. Create a program that takes a string as input and removes all the spaces from\n",
    "it. Print the modified string without spaces."
   ]
  },
  {
   "cell_type": "code",
   "execution_count": 51,
   "id": "e6b3a452-6c8d-488d-a372-564688daf554",
   "metadata": {},
   "outputs": [
    {
     "name": "stdin",
     "output_type": "stream",
     "text": [
      "Please enter a sentence to remove spaces:  vnmnfs12 32n3 2n \n"
     ]
    },
    {
     "name": "stdout",
     "output_type": "stream",
     "text": [
      "without space: vnmnfs1232n32n\n"
     ]
    }
   ],
   "source": [
    "trim_space = input('Please enter a sentence to remove spaces: ')\n",
    "print('without space:',trim_space.replace(\" \",''))"
   ]
  }
 ],
 "metadata": {
  "kernelspec": {
   "display_name": "Python 3 (ipykernel)",
   "language": "python",
   "name": "python3"
  },
  "language_info": {
   "codemirror_mode": {
    "name": "ipython",
    "version": 3
   },
   "file_extension": ".py",
   "mimetype": "text/x-python",
   "name": "python",
   "nbconvert_exporter": "python",
   "pygments_lexer": "ipython3",
   "version": "3.10.8"
  }
 },
 "nbformat": 4,
 "nbformat_minor": 5
}
